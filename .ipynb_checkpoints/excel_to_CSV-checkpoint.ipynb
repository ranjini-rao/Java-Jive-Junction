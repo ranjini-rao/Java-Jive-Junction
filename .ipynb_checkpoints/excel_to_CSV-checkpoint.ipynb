{
 "cells": [
  {
   "cell_type": "code",
   "execution_count": 1,
   "id": "4a0c0ee3",
   "metadata": {},
   "outputs": [],
   "source": [
    "import pandas as pd"
   ]
  },
  {
   "cell_type": "code",
   "execution_count": 6,
   "id": "cb365e13",
   "metadata": {},
   "outputs": [],
   "source": [
    "order_df = pd.read_excel('Data/Raw Data.xlsx',sheet_name = 0)"
   ]
  },
  {
   "cell_type": "code",
   "execution_count": 7,
   "id": "6996a774",
   "metadata": {},
   "outputs": [
    {
     "data": {
      "text/html": [
       "<div>\n",
       "<style scoped>\n",
       "    .dataframe tbody tr th:only-of-type {\n",
       "        vertical-align: middle;\n",
       "    }\n",
       "\n",
       "    .dataframe tbody tr th {\n",
       "        vertical-align: top;\n",
       "    }\n",
       "\n",
       "    .dataframe thead th {\n",
       "        text-align: right;\n",
       "    }\n",
       "</style>\n",
       "<table border=\"1\" class=\"dataframe\">\n",
       "  <thead>\n",
       "    <tr style=\"text-align: right;\">\n",
       "      <th></th>\n",
       "      <th>Order ID</th>\n",
       "      <th>Order Date</th>\n",
       "      <th>Customer ID</th>\n",
       "      <th>Product ID</th>\n",
       "      <th>Quantity</th>\n",
       "    </tr>\n",
       "  </thead>\n",
       "  <tbody>\n",
       "    <tr>\n",
       "      <th>0</th>\n",
       "      <td>QEV-37451-860</td>\n",
       "      <td>2019-09-05</td>\n",
       "      <td>17670-51384-MA</td>\n",
       "      <td>R-M-1</td>\n",
       "      <td>2</td>\n",
       "    </tr>\n",
       "    <tr>\n",
       "      <th>1</th>\n",
       "      <td>QEV-37451-860</td>\n",
       "      <td>2019-09-05</td>\n",
       "      <td>17670-51384-MA</td>\n",
       "      <td>E-M-0.5</td>\n",
       "      <td>5</td>\n",
       "    </tr>\n",
       "    <tr>\n",
       "      <th>2</th>\n",
       "      <td>FAA-43335-268</td>\n",
       "      <td>2021-06-17</td>\n",
       "      <td>21125-22134-PX</td>\n",
       "      <td>A-L-1</td>\n",
       "      <td>1</td>\n",
       "    </tr>\n",
       "    <tr>\n",
       "      <th>3</th>\n",
       "      <td>KAC-83089-793</td>\n",
       "      <td>2021-07-15</td>\n",
       "      <td>23806-46781-OU</td>\n",
       "      <td>E-M-1</td>\n",
       "      <td>2</td>\n",
       "    </tr>\n",
       "    <tr>\n",
       "      <th>4</th>\n",
       "      <td>KAC-83089-793</td>\n",
       "      <td>2021-07-15</td>\n",
       "      <td>23806-46781-OU</td>\n",
       "      <td>R-L-2.5</td>\n",
       "      <td>2</td>\n",
       "    </tr>\n",
       "    <tr>\n",
       "      <th>...</th>\n",
       "      <td>...</td>\n",
       "      <td>...</td>\n",
       "      <td>...</td>\n",
       "      <td>...</td>\n",
       "      <td>...</td>\n",
       "    </tr>\n",
       "    <tr>\n",
       "      <th>995</th>\n",
       "      <td>RLM-96511-467</td>\n",
       "      <td>2020-01-06</td>\n",
       "      <td>43014-53743-XK</td>\n",
       "      <td>R-L-2.5</td>\n",
       "      <td>1</td>\n",
       "    </tr>\n",
       "    <tr>\n",
       "      <th>996</th>\n",
       "      <td>AEZ-13242-456</td>\n",
       "      <td>2022-05-04</td>\n",
       "      <td>62494-09113-RP</td>\n",
       "      <td>R-M-0.5</td>\n",
       "      <td>5</td>\n",
       "    </tr>\n",
       "    <tr>\n",
       "      <th>997</th>\n",
       "      <td>UME-75640-698</td>\n",
       "      <td>2019-10-11</td>\n",
       "      <td>62494-09113-RP</td>\n",
       "      <td>A-M-0.5</td>\n",
       "      <td>4</td>\n",
       "    </tr>\n",
       "    <tr>\n",
       "      <th>998</th>\n",
       "      <td>GJC-66474-557</td>\n",
       "      <td>2021-08-03</td>\n",
       "      <td>64965-78386-MY</td>\n",
       "      <td>A-D-1</td>\n",
       "      <td>1</td>\n",
       "    </tr>\n",
       "    <tr>\n",
       "      <th>999</th>\n",
       "      <td>IRV-20769-219</td>\n",
       "      <td>2020-10-15</td>\n",
       "      <td>77131-58092-GE</td>\n",
       "      <td>E-M-0.2</td>\n",
       "      <td>3</td>\n",
       "    </tr>\n",
       "  </tbody>\n",
       "</table>\n",
       "<p>1000 rows × 5 columns</p>\n",
       "</div>"
      ],
      "text/plain": [
       "          Order ID Order Date     Customer ID Product ID  Quantity\n",
       "0    QEV-37451-860 2019-09-05  17670-51384-MA      R-M-1         2\n",
       "1    QEV-37451-860 2019-09-05  17670-51384-MA    E-M-0.5         5\n",
       "2    FAA-43335-268 2021-06-17  21125-22134-PX      A-L-1         1\n",
       "3    KAC-83089-793 2021-07-15  23806-46781-OU      E-M-1         2\n",
       "4    KAC-83089-793 2021-07-15  23806-46781-OU    R-L-2.5         2\n",
       "..             ...        ...             ...        ...       ...\n",
       "995  RLM-96511-467 2020-01-06  43014-53743-XK    R-L-2.5         1\n",
       "996  AEZ-13242-456 2022-05-04  62494-09113-RP    R-M-0.5         5\n",
       "997  UME-75640-698 2019-10-11  62494-09113-RP    A-M-0.5         4\n",
       "998  GJC-66474-557 2021-08-03  64965-78386-MY      A-D-1         1\n",
       "999  IRV-20769-219 2020-10-15  77131-58092-GE    E-M-0.2         3\n",
       "\n",
       "[1000 rows x 5 columns]"
      ]
     },
     "execution_count": 7,
     "metadata": {},
     "output_type": "execute_result"
    }
   ],
   "source": [
    "order_df"
   ]
  },
  {
   "cell_type": "code",
   "execution_count": 8,
   "id": "76748269",
   "metadata": {},
   "outputs": [],
   "source": [
    "order_df[[\"Order ID\",\"Product ID\",\"Quantity\"]] = order_df.groupby([\"Order ID\",\"Product ID\"]).agg({'Quantity':'sum'}).reset_index()"
   ]
  },
  {
   "cell_type": "code",
   "execution_count": 9,
   "id": "f8ca74b7",
   "metadata": {},
   "outputs": [],
   "source": [
    "order_df = order_df.dropna(subset = [\"Order ID\"])"
   ]
  },
  {
   "cell_type": "code",
   "execution_count": 10,
   "id": "3e8f6cdb",
   "metadata": {},
   "outputs": [
    {
     "data": {
      "text/plain": [
       "dtype('float64')"
      ]
     },
     "execution_count": 10,
     "metadata": {},
     "output_type": "execute_result"
    }
   ],
   "source": [
    "order_df[\"Quantity\"].dtypes"
   ]
  },
  {
   "cell_type": "code",
   "execution_count": 11,
   "id": "e338b6bb",
   "metadata": {},
   "outputs": [
    {
     "data": {
      "text/plain": [
       "Order ID               object\n",
       "Order Date     datetime64[ns]\n",
       "Customer ID            object\n",
       "Product ID             object\n",
       "Quantity              float64\n",
       "dtype: object"
      ]
     },
     "execution_count": 11,
     "metadata": {},
     "output_type": "execute_result"
    }
   ],
   "source": [
    "order_df.dtypes"
   ]
  },
  {
   "cell_type": "code",
   "execution_count": null,
   "id": "9c403d3b",
   "metadata": {},
   "outputs": [],
   "source": []
  },
  {
   "cell_type": "code",
   "execution_count": 12,
   "id": "4eca9012",
   "metadata": {},
   "outputs": [],
   "source": [
    "order_df.to_csv('Data\\orders.csv',index=False)"
   ]
  },
  {
   "cell_type": "code",
   "execution_count": 14,
   "id": "db448c33",
   "metadata": {},
   "outputs": [],
   "source": [
    "customers_df = pd.read_excel('Data/Raw Data.xlsx',sheet_name =1)"
   ]
  },
  {
   "cell_type": "code",
   "execution_count": 15,
   "id": "f75c03f1",
   "metadata": {},
   "outputs": [
    {
     "data": {
      "text/html": [
       "<div>\n",
       "<style scoped>\n",
       "    .dataframe tbody tr th:only-of-type {\n",
       "        vertical-align: middle;\n",
       "    }\n",
       "\n",
       "    .dataframe tbody tr th {\n",
       "        vertical-align: top;\n",
       "    }\n",
       "\n",
       "    .dataframe thead th {\n",
       "        text-align: right;\n",
       "    }\n",
       "</style>\n",
       "<table border=\"1\" class=\"dataframe\">\n",
       "  <thead>\n",
       "    <tr style=\"text-align: right;\">\n",
       "      <th></th>\n",
       "      <th>Customer ID</th>\n",
       "      <th>Customer Name</th>\n",
       "      <th>Email</th>\n",
       "      <th>Phone Number</th>\n",
       "      <th>Address Line 1</th>\n",
       "      <th>City</th>\n",
       "      <th>Country</th>\n",
       "      <th>Postcode</th>\n",
       "      <th>Loyalty Card</th>\n",
       "    </tr>\n",
       "  </thead>\n",
       "  <tbody>\n",
       "    <tr>\n",
       "      <th>0</th>\n",
       "      <td>17670-51384-MA</td>\n",
       "      <td>Aloisia Allner</td>\n",
       "      <td>aallner0@lulu.com</td>\n",
       "      <td>+1 (862) 817-0124</td>\n",
       "      <td>57999 Pepper Wood Alley</td>\n",
       "      <td>Paterson</td>\n",
       "      <td>United States</td>\n",
       "      <td>7505</td>\n",
       "      <td>Yes</td>\n",
       "    </tr>\n",
       "    <tr>\n",
       "      <th>1</th>\n",
       "      <td>73342-18763-UW</td>\n",
       "      <td>Piotr Bote</td>\n",
       "      <td>pbote1@yelp.com</td>\n",
       "      <td>+353 (913) 396-4653</td>\n",
       "      <td>2112 Ridgeway Hill</td>\n",
       "      <td>Crumlin</td>\n",
       "      <td>Ireland</td>\n",
       "      <td>D6W</td>\n",
       "      <td>No</td>\n",
       "    </tr>\n",
       "    <tr>\n",
       "      <th>2</th>\n",
       "      <td>21125-22134-PX</td>\n",
       "      <td>Jami Redholes</td>\n",
       "      <td>jredholes2@tmall.com</td>\n",
       "      <td>+1 (210) 986-6806</td>\n",
       "      <td>5214 Bartillon Park</td>\n",
       "      <td>San Antonio</td>\n",
       "      <td>United States</td>\n",
       "      <td>78205</td>\n",
       "      <td>Yes</td>\n",
       "    </tr>\n",
       "    <tr>\n",
       "      <th>3</th>\n",
       "      <td>71253-00052-RN</td>\n",
       "      <td>Dene Azema</td>\n",
       "      <td>dazema3@facebook.com</td>\n",
       "      <td>+1 (217) 418-0714</td>\n",
       "      <td>27 Maywood Place</td>\n",
       "      <td>Springfield</td>\n",
       "      <td>United States</td>\n",
       "      <td>62711</td>\n",
       "      <td>Yes</td>\n",
       "    </tr>\n",
       "    <tr>\n",
       "      <th>4</th>\n",
       "      <td>23806-46781-OU</td>\n",
       "      <td>Christoffer O' Shea</td>\n",
       "      <td>NaN</td>\n",
       "      <td>+353 (698) 362-9201</td>\n",
       "      <td>38980 Manitowish Junction</td>\n",
       "      <td>Cill Airne</td>\n",
       "      <td>Ireland</td>\n",
       "      <td>N41</td>\n",
       "      <td>No</td>\n",
       "    </tr>\n",
       "    <tr>\n",
       "      <th>...</th>\n",
       "      <td>...</td>\n",
       "      <td>...</td>\n",
       "      <td>...</td>\n",
       "      <td>...</td>\n",
       "      <td>...</td>\n",
       "      <td>...</td>\n",
       "      <td>...</td>\n",
       "      <td>...</td>\n",
       "      <td>...</td>\n",
       "    </tr>\n",
       "    <tr>\n",
       "      <th>995</th>\n",
       "      <td>43014-53743-XK</td>\n",
       "      <td>Jennica Tewelson</td>\n",
       "      <td>jtewelsonrn@samsung.com</td>\n",
       "      <td>+1 (469) 573-8379</td>\n",
       "      <td>4040 Hoard Junction</td>\n",
       "      <td>Dallas</td>\n",
       "      <td>United States</td>\n",
       "      <td>75210</td>\n",
       "      <td>No</td>\n",
       "    </tr>\n",
       "    <tr>\n",
       "      <th>996</th>\n",
       "      <td>62494-09113-RP</td>\n",
       "      <td>Marguerite Graves</td>\n",
       "      <td>NaN</td>\n",
       "      <td>+1 (479) 204-9111</td>\n",
       "      <td>91413 Scott Way</td>\n",
       "      <td>Fort Smith</td>\n",
       "      <td>United States</td>\n",
       "      <td>72905</td>\n",
       "      <td>No</td>\n",
       "    </tr>\n",
       "    <tr>\n",
       "      <th>997</th>\n",
       "      <td>10940-42739-ET</td>\n",
       "      <td>Etan Featenby</td>\n",
       "      <td>NaN</td>\n",
       "      <td>+1 (719) 416-9560</td>\n",
       "      <td>885 Toban Plaza</td>\n",
       "      <td>Colorado Springs</td>\n",
       "      <td>United States</td>\n",
       "      <td>80920</td>\n",
       "      <td>Yes</td>\n",
       "    </tr>\n",
       "    <tr>\n",
       "      <th>998</th>\n",
       "      <td>64965-78386-MY</td>\n",
       "      <td>Nicolina Jenny</td>\n",
       "      <td>njennyrq@bigcartel.com</td>\n",
       "      <td>+1 (562) 679-4750</td>\n",
       "      <td>6099 American Ash Court</td>\n",
       "      <td>Whittier</td>\n",
       "      <td>United States</td>\n",
       "      <td>90610</td>\n",
       "      <td>No</td>\n",
       "    </tr>\n",
       "    <tr>\n",
       "      <th>999</th>\n",
       "      <td>77131-58092-GE</td>\n",
       "      <td>Vidovic Antonelli</td>\n",
       "      <td>NaN</td>\n",
       "      <td>+44 (810) 927-9266</td>\n",
       "      <td>3242 Corscot Pass</td>\n",
       "      <td>London</td>\n",
       "      <td>United Kingdom</td>\n",
       "      <td>EC1V</td>\n",
       "      <td>Yes</td>\n",
       "    </tr>\n",
       "  </tbody>\n",
       "</table>\n",
       "<p>1000 rows × 9 columns</p>\n",
       "</div>"
      ],
      "text/plain": [
       "        Customer ID        Customer Name                    Email  \\\n",
       "0    17670-51384-MA       Aloisia Allner        aallner0@lulu.com   \n",
       "1    73342-18763-UW           Piotr Bote          pbote1@yelp.com   \n",
       "2    21125-22134-PX        Jami Redholes     jredholes2@tmall.com   \n",
       "3    71253-00052-RN           Dene Azema     dazema3@facebook.com   \n",
       "4    23806-46781-OU  Christoffer O' Shea                      NaN   \n",
       "..              ...                  ...                      ...   \n",
       "995  43014-53743-XK     Jennica Tewelson  jtewelsonrn@samsung.com   \n",
       "996  62494-09113-RP    Marguerite Graves                      NaN   \n",
       "997  10940-42739-ET        Etan Featenby                      NaN   \n",
       "998  64965-78386-MY       Nicolina Jenny   njennyrq@bigcartel.com   \n",
       "999  77131-58092-GE    Vidovic Antonelli                      NaN   \n",
       "\n",
       "            Phone Number             Address Line 1              City  \\\n",
       "0      +1 (862) 817-0124    57999 Pepper Wood Alley          Paterson   \n",
       "1    +353 (913) 396-4653         2112 Ridgeway Hill           Crumlin   \n",
       "2      +1 (210) 986-6806        5214 Bartillon Park       San Antonio   \n",
       "3      +1 (217) 418-0714           27 Maywood Place       Springfield   \n",
       "4    +353 (698) 362-9201  38980 Manitowish Junction        Cill Airne   \n",
       "..                   ...                        ...               ...   \n",
       "995    +1 (469) 573-8379        4040 Hoard Junction            Dallas   \n",
       "996    +1 (479) 204-9111            91413 Scott Way        Fort Smith   \n",
       "997    +1 (719) 416-9560            885 Toban Plaza  Colorado Springs   \n",
       "998    +1 (562) 679-4750    6099 American Ash Court          Whittier   \n",
       "999   +44 (810) 927-9266          3242 Corscot Pass            London   \n",
       "\n",
       "            Country Postcode Loyalty Card  \n",
       "0     United States     7505          Yes  \n",
       "1           Ireland      D6W           No  \n",
       "2     United States    78205          Yes  \n",
       "3     United States    62711          Yes  \n",
       "4           Ireland      N41           No  \n",
       "..              ...      ...          ...  \n",
       "995   United States    75210           No  \n",
       "996   United States    72905           No  \n",
       "997   United States    80920          Yes  \n",
       "998   United States    90610           No  \n",
       "999  United Kingdom     EC1V          Yes  \n",
       "\n",
       "[1000 rows x 9 columns]"
      ]
     },
     "execution_count": 15,
     "metadata": {},
     "output_type": "execute_result"
    }
   ],
   "source": [
    "customers_df"
   ]
  },
  {
   "cell_type": "code",
   "execution_count": 16,
   "id": "9df1d7e9",
   "metadata": {},
   "outputs": [
    {
     "data": {
      "text/plain": [
       "Customer ID       1000\n",
       "Customer Name     1000\n",
       "Email              796\n",
       "Phone Number       870\n",
       "Address Line 1    1000\n",
       "City              1000\n",
       "Country           1000\n",
       "Postcode          1000\n",
       "Loyalty Card      1000\n",
       "dtype: int64"
      ]
     },
     "execution_count": 16,
     "metadata": {},
     "output_type": "execute_result"
    }
   ],
   "source": [
    "customers_df.count()"
   ]
  },
  {
   "cell_type": "code",
   "execution_count": 17,
   "id": "a1b83cef",
   "metadata": {},
   "outputs": [],
   "source": [
    "customers_df[\"Phone Number\"].fillna('unknown',inplace = True)"
   ]
  },
  {
   "cell_type": "code",
   "execution_count": 18,
   "id": "980a49cb",
   "metadata": {},
   "outputs": [
    {
     "data": {
      "text/plain": [
       "Customer ID       1000\n",
       "Customer Name     1000\n",
       "Email              796\n",
       "Phone Number      1000\n",
       "Address Line 1    1000\n",
       "City              1000\n",
       "Country           1000\n",
       "Postcode          1000\n",
       "Loyalty Card      1000\n",
       "dtype: int64"
      ]
     },
     "execution_count": 18,
     "metadata": {},
     "output_type": "execute_result"
    }
   ],
   "source": [
    "customers_df.count()"
   ]
  },
  {
   "cell_type": "code",
   "execution_count": 19,
   "id": "53a816c5",
   "metadata": {},
   "outputs": [],
   "source": [
    "customers_df[\"Email\"].fillna('unknown',inplace = True)"
   ]
  },
  {
   "cell_type": "code",
   "execution_count": 20,
   "id": "ad133f2b",
   "metadata": {},
   "outputs": [
    {
     "data": {
      "text/plain": [
       "Customer ID       1000\n",
       "Customer Name     1000\n",
       "Email             1000\n",
       "Phone Number      1000\n",
       "Address Line 1    1000\n",
       "City              1000\n",
       "Country           1000\n",
       "Postcode          1000\n",
       "Loyalty Card      1000\n",
       "dtype: int64"
      ]
     },
     "execution_count": 20,
     "metadata": {},
     "output_type": "execute_result"
    }
   ],
   "source": [
    "customers_df.count()"
   ]
  },
  {
   "cell_type": "code",
   "execution_count": 21,
   "id": "9a0d40ce",
   "metadata": {},
   "outputs": [],
   "source": [
    "customers_df.to_csv('Data\\customers.csv',index=False)"
   ]
  },
  {
   "cell_type": "code",
   "execution_count": 23,
   "id": "138ef773",
   "metadata": {},
   "outputs": [],
   "source": [
    "products_df = pd.read_excel('Data/Raw Data.xlsx',sheet_name =2)"
   ]
  },
  {
   "cell_type": "code",
   "execution_count": 24,
   "id": "6f87aafd",
   "metadata": {},
   "outputs": [
    {
     "data": {
      "text/html": [
       "<div>\n",
       "<style scoped>\n",
       "    .dataframe tbody tr th:only-of-type {\n",
       "        vertical-align: middle;\n",
       "    }\n",
       "\n",
       "    .dataframe tbody tr th {\n",
       "        vertical-align: top;\n",
       "    }\n",
       "\n",
       "    .dataframe thead th {\n",
       "        text-align: right;\n",
       "    }\n",
       "</style>\n",
       "<table border=\"1\" class=\"dataframe\">\n",
       "  <thead>\n",
       "    <tr style=\"text-align: right;\">\n",
       "      <th></th>\n",
       "      <th>Product ID</th>\n",
       "      <th>Coffee Type</th>\n",
       "      <th>Roast Type</th>\n",
       "      <th>Size</th>\n",
       "      <th>Unit Price</th>\n",
       "      <th>Price per 100g</th>\n",
       "      <th>Profit</th>\n",
       "    </tr>\n",
       "  </thead>\n",
       "  <tbody>\n",
       "    <tr>\n",
       "      <th>0</th>\n",
       "      <td>A-L-0.2</td>\n",
       "      <td>Ara</td>\n",
       "      <td>L</td>\n",
       "      <td>0.2</td>\n",
       "      <td>3.885</td>\n",
       "      <td>1.9425</td>\n",
       "      <td>0.34965</td>\n",
       "    </tr>\n",
       "    <tr>\n",
       "      <th>1</th>\n",
       "      <td>A-L-0.5</td>\n",
       "      <td>Ara</td>\n",
       "      <td>L</td>\n",
       "      <td>0.5</td>\n",
       "      <td>7.770</td>\n",
       "      <td>1.5540</td>\n",
       "      <td>0.69930</td>\n",
       "    </tr>\n",
       "    <tr>\n",
       "      <th>2</th>\n",
       "      <td>A-L-1</td>\n",
       "      <td>Ara</td>\n",
       "      <td>L</td>\n",
       "      <td>1.0</td>\n",
       "      <td>12.950</td>\n",
       "      <td>1.2950</td>\n",
       "      <td>1.16550</td>\n",
       "    </tr>\n",
       "    <tr>\n",
       "      <th>3</th>\n",
       "      <td>A-L-2.5</td>\n",
       "      <td>Ara</td>\n",
       "      <td>L</td>\n",
       "      <td>2.5</td>\n",
       "      <td>29.785</td>\n",
       "      <td>1.1914</td>\n",
       "      <td>2.68065</td>\n",
       "    </tr>\n",
       "    <tr>\n",
       "      <th>4</th>\n",
       "      <td>A-M-0.2</td>\n",
       "      <td>Ara</td>\n",
       "      <td>M</td>\n",
       "      <td>0.2</td>\n",
       "      <td>3.375</td>\n",
       "      <td>1.6875</td>\n",
       "      <td>0.30375</td>\n",
       "    </tr>\n",
       "  </tbody>\n",
       "</table>\n",
       "</div>"
      ],
      "text/plain": [
       "  Product ID Coffee Type Roast Type  Size  Unit Price  Price per 100g   Profit\n",
       "0    A-L-0.2         Ara          L   0.2       3.885          1.9425  0.34965\n",
       "1    A-L-0.5         Ara          L   0.5       7.770          1.5540  0.69930\n",
       "2      A-L-1         Ara          L   1.0      12.950          1.2950  1.16550\n",
       "3    A-L-2.5         Ara          L   2.5      29.785          1.1914  2.68065\n",
       "4    A-M-0.2         Ara          M   0.2       3.375          1.6875  0.30375"
      ]
     },
     "execution_count": 24,
     "metadata": {},
     "output_type": "execute_result"
    }
   ],
   "source": [
    "products_df.head()\n"
   ]
  },
  {
   "cell_type": "code",
   "execution_count": 25,
   "id": "9cfc5477",
   "metadata": {},
   "outputs": [],
   "source": [
    "products_df.to_csv('Data\\products.csv',index=False)"
   ]
  },
  {
   "cell_type": "code",
   "execution_count": null,
   "id": "4772ee8b",
   "metadata": {},
   "outputs": [],
   "source": []
  }
 ],
 "metadata": {
  "kernelspec": {
   "display_name": "Python 3 (ipykernel)",
   "language": "python",
   "name": "python3"
  },
  "language_info": {
   "codemirror_mode": {
    "name": "ipython",
    "version": 3
   },
   "file_extension": ".py",
   "mimetype": "text/x-python",
   "name": "python",
   "nbconvert_exporter": "python",
   "pygments_lexer": "ipython3",
   "version": "3.11.4"
  }
 },
 "nbformat": 4,
 "nbformat_minor": 5
}
